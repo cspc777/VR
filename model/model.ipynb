{
 "cells": [
  {
   "cell_type": "code",
   "execution_count": 1,
   "metadata": {},
   "outputs": [],
   "source": [
    "import torch\n",
    "import torch.nn as nn\n",
    "import torch.nn.functional as F\n",
    "from torch.nn.init import xavier_uniform_, zeros_\n",
    "\n",
    "from ConvLSTM import ConvLSTM"
   ]
  },
  {
   "cell_type": "code",
   "execution_count": 2,
   "metadata": {},
   "outputs": [],
   "source": [
    "def vgg16(channel_num):\n",
    "    return nn.Sequential(\n",
    "        nn.Conv2d(channel_num, 64, 3, stride=(1, 1), padding=(1, 1)),\n",
    "        nn.ReLU(inplace=True),\n",
    "        nn.Conv2d(64, 64, 3, stride=(1, 1), padding=(1, 1)),\n",
    "        nn.ReLU(inplace=True),\n",
    "        nn.MaxPool2d(kernel_size=2, stride=2, padding=0, dilation=1, ceil_mode=False),\n",
    "        nn.Conv2d(64, 128, kernel_size=(3, 3), stride=(1, 1), padding=(1, 1)),\n",
    "        nn.ReLU(inplace=True),\n",
    "        nn.Conv2d(128, 128, kernel_size=(3, 3), stride=(1, 1), padding=(1, 1)),\n",
    "        nn.ReLU(inplace=True),\n",
    "        nn.MaxPool2d(kernel_size=2, stride=2, padding=0, dilation=1, ceil_mode=False),     \n",
    "        nn.Conv2d(128, 256, kernel_size=(3, 3), stride=(1, 1), padding=(1, 1)),\n",
    "        nn.ReLU(inplace=True),\n",
    "        nn.Conv2d(256, 256, kernel_size=(3, 3), stride=(1, 1), padding=(1, 1)),\n",
    "        nn.ReLU(inplace=True),\n",
    "        nn.Conv2d(256, 256, kernel_size=(3, 3), stride=(1, 1), padding=(1, 1)),\n",
    "        nn.ReLU(inplace=True),\n",
    "        nn.MaxPool2d(kernel_size=2, stride=2, padding=0, dilation=1, ceil_mode=False),\n",
    "        nn.Conv2d(256, 512, kernel_size=(3, 3), stride=(1, 1), padding=(1, 1)),\n",
    "        nn.ReLU(inplace=True),  \n",
    "    )"
   ]
  },
  {
   "cell_type": "code",
   "execution_count": 3,
   "metadata": {},
   "outputs": [],
   "source": [
    "def spatial_decoder(channel_num):\n",
    "    return nn.Sequential(\n",
    "        nn.Conv2d(512, 256, 3, stride=1, padding=1),\n",
    "        nn.ReLU(inplace=True),\n",
    "        nn.ConvTranspose2d(256, 256, 3, stride=2, padding=1, output_padding=1),\n",
    "        nn.ReLU(inplace=True),\n",
    "        nn.Conv2d(256, 256, 3, stride=1, padding=1),\n",
    "        nn.ReLU(inplace=True),\n",
    "        nn.Conv2d(256, 256, 3, stride=1, padding=1),\n",
    "        nn.ReLU(inplace=True),\n",
    "        nn.ConvTranspose2d(256, 128, 3, stride=2, padding=1, output_padding=1),\n",
    "        nn.ReLU(inplace=True),\n",
    "        nn.Conv2d(128, 128, 3, stride=1, padding=1),\n",
    "        nn.ReLU(inplace=True),\n",
    "        nn.ConvTranspose2d(128, channel_num, 3, stride=2, padding=1, output_padding=1),\n",
    "        nn.ReLU(inplace=True),\n",
    "        nn.Conv2d(channel_num, channel_num, 3, stride=1, padding=1),\n",
    "        nn.ReLU(inplace=True),\n",
    "    )"
   ]
  },
  {
   "cell_type": "code",
   "execution_count": 4,
   "metadata": {},
   "outputs": [],
   "source": [
    "class Generator_Net(nn.Module):\n",
    "    def __init__(self, is_rgb = False):\n",
    "        super(Generator_Net, self).__init__()\n",
    "        if is_rgb == True:\n",
    "            self.vgg16 = vgg16(channel_num=3)\n",
    "        else:\n",
    "            self.vgg16 = vgg16(channel_num=1)\n",
    "            \n",
    "        self.conlstm1 = ConvLSTM(input_size=(28, 28), input_dim=512, hidden_dim=[256], \n",
    "                                 kernel_size=(3, 3), num_layers=1, batch_first=True, bias=True, return_all_layers=True)\n",
    "        \n",
    "        self.conlstm2 = ConvLSTM(input_size=(28, 28), input_dim=256, hidden_dim=[512], \n",
    "                                 kernel_size=(3, 3), num_layers=1, batch_first=True, bias=True, return_all_layers=True)\n",
    "        \n",
    "        if is_rgb == True:\n",
    "            self.spatial_decoder = spatial_decoder(channel_num=3)\n",
    "        else:\n",
    "            self.spatial_decoder = spatial_decoder(channel_num=1)\n",
    "            \n",
    "    def init_weights(self):\n",
    "        for m in self.modules():\n",
    "            if isinstance(m, nn.Conv2d) or isinstance(m, nn.ConvTranspose2d):\n",
    "                xavier_uniform_(m.weight)\n",
    "                if m.bias is not None:\n",
    "                    zeros_(m.bias)\n",
    "    \n",
    "    def forward(self, x):\n",
    "        b_size, t_s, _, _, _ = x.size()\n",
    "        x = x.reshape(-1, x.size(2), x.size(3), x.size(4))\n",
    "        x = self.vgg16(x)\n",
    "        x = x.reshape(b_size, t_s, x.size(1), x.size(2), x.size(3))\n",
    "\n",
    "        x, _ = self.conlstm1(x)\n",
    "        x, _ = self.conlstm2(x[0])\n",
    "        \n",
    "        x=x[0]\n",
    "        x = x.reshape(-1, x.size(2), x.size(3), x.size(4))\n",
    "        x = self.spatial_decoder(x)\n",
    "        x = x.reshape(b_size, t_s, x.size(1), x.size(2), x.size(3))\n",
    "        return x"
   ]
  },
  {
   "cell_type": "code",
   "execution_count": 5,
   "metadata": {},
   "outputs": [],
   "source": [
    "class Discriminator_Net(nn.Module):\n",
    "    def __init__(self, is_rgb = False):\n",
    "        super(Discriminator_Net, self).__init__()\n",
    "        if is_rgb == True:\n",
    "            channel_num=3\n",
    "        else:\n",
    "            channel_num=1\n",
    "        self.conv3d = nn.Sequential(\n",
    "            nn.Conv3d(channel_num, 32, kernel_size=(5,5,5), stride=(1,2,2), padding=(0,2,2)),\n",
    "            nn.ReLU(inplace=True),\n",
    "            nn.Conv3d(32, 64, kernel_size=(3,5,5), stride=(1,2,2), padding=(0,2,2)),\n",
    "            nn.ReLU(inplace=True),\n",
    "            nn.Conv3d(64, 128, kernel_size=(3,3,3), stride=(1,2,2), padding=(0,1,1)),\n",
    "            nn.ReLU(inplace=True),\n",
    "            nn.Conv3d(128, 256, kernel_size=(3,3,3), stride=(1,2,2), padding=(0,1,1)),\n",
    "            nn.ReLU(inplace=True),\n",
    "            nn.Conv3d(256, 1, kernel_size=(1,3,3), stride=(1,2,2), padding=(0,1,1)), \n",
    "            nn.ReLU(inplace=True)\n",
    "        )\n",
    "        self.linear = nn.Linear(49, 1)\n",
    "        \n",
    "    def init_weights(self):\n",
    "        for m in self.modules():\n",
    "            if isinstance(m, nn.Conv3d) or isinstance(m, nn.Linear):\n",
    "                xavier_uniform_(m.weight)\n",
    "                if m.bias is not None:\n",
    "                    zeros_(m.bias)\n",
    "                    \n",
    "    def forward(self, x):\n",
    "        x = torch.transpose(x, 1,2)\n",
    "        x = self.conv3d(x)\n",
    "        x = x.reshape(x.size(0), 49)\n",
    "        x = self.linear(x)\n",
    "        x = F.sigmoid(x)\n",
    "        return x"
   ]
  },
  {
   "cell_type": "code",
   "execution_count": 6,
   "metadata": {},
   "outputs": [],
   "source": [
    "import numpy as np\n",
    "img = np.ones((3,11,1,224,224))\n",
    "\n",
    "G_net = Generator_Net().to(torch.device(\"cuda\"))\n",
    "D_net = Discriminator_Net().to(torch.device(\"cuda\"))\n",
    "G_net.init_weights()\n",
    "D_net.init_weights()\n",
    "\n",
    "optimizer_G = torch.optim.Adam(G_net.parameters(), lr=1e-4, eps=1e-06, weight_decay=1e-5)\n",
    "optimizer_D = torch.optim.Adam(D_net.parameters(), lr=1e-4, eps=1e-06, weight_decay=1e-5)\n",
    "\n",
    "img_loss = nn.MSELoss()\n",
    "bce_loss = torch.nn.BCELoss()\n",
    "\n",
    "image = torch.from_numpy(img).float().cuda()\n",
    "real_label = torch.ones(size=(3, 1), requires_grad=False).cuda()\n",
    "fake_label = torch.zeros(size=(3, 1), requires_grad=False).cuda()"
   ]
  },
  {
   "cell_type": "code",
   "execution_count": 7,
   "metadata": {},
   "outputs": [
    {
     "name": "stdout",
     "output_type": "stream",
     "text": [
      "ConvLSTMCell(\n",
      "  (conv): Conv2d(768, 1024, kernel_size=(3, 3), stride=(1, 1), padding=(1, 1))\n",
      ")\n",
      "Conv2d(768, 1024, kernel_size=(3, 3), stride=(1, 1), padding=(1, 1))\n",
      "ConvLSTMCell(\n",
      "  (conv): Conv2d(768, 2048, kernel_size=(3, 3), stride=(1, 1), padding=(1, 1))\n",
      ")\n",
      "Conv2d(768, 2048, kernel_size=(3, 3), stride=(1, 1), padding=(1, 1))\n"
     ]
    },
    {
     "name": "stderr",
     "output_type": "stream",
     "text": [
      "/home/kuo/anaconda3/envs/AD_test/lib/python3.7/site-packages/torch/nn/functional.py:1350: UserWarning: nn.functional.sigmoid is deprecated. Use torch.sigmoid instead.\n",
      "  warnings.warn(\"nn.functional.sigmoid is deprecated. Use torch.sigmoid instead.\")\n"
     ]
    },
    {
     "name": "stdout",
     "output_type": "stream",
     "text": [
      "g_loss:  tensor(1.6931, device='cuda:0', grad_fn=<AddBackward0>)\n",
      "d_loss:  tensor(1.3862, device='cuda:0', grad_fn=<AddBackward0>)\n"
     ]
    }
   ],
   "source": [
    "#train_G\n",
    "optimizer_G.zero_grad()\n",
    "\n",
    "generated_image = G_net(image)\n",
    "d_out_fake = D_net(generated_image)\n",
    "g_loss = bce_loss(d_out_fake, real_label)+img_loss(generated_image, image)\n",
    "\n",
    "print('g_loss: ', g_loss)\n",
    "\n",
    "g_loss.backward()\n",
    "optimizer_G.step()\n",
    "\n",
    "#train_D\n",
    "optimizer_D.zero_grad()\n",
    "\n",
    "d_out_real = D_net(image)\n",
    "real_loss = bce_loss(d_out_real, real_label)\n",
    "d_out_fake = D_net(generated_image.detach())\n",
    "fake_loss = bce_loss(d_out_fake, fake_label)\n",
    "\n",
    "d_loss = real_loss + fake_loss\n",
    "\n",
    "print('d_loss: ', d_loss)\n",
    "\n",
    "d_loss.backward()\n",
    "optimizer_D.step()"
   ]
  },
  {
   "cell_type": "code",
   "execution_count": null,
   "metadata": {},
   "outputs": [],
   "source": []
  },
  {
   "cell_type": "code",
   "execution_count": null,
   "metadata": {},
   "outputs": [],
   "source": []
  },
  {
   "cell_type": "code",
   "execution_count": null,
   "metadata": {},
   "outputs": [],
   "source": []
  }
 ],
 "metadata": {
  "kernelspec": {
   "display_name": "Python 3",
   "language": "python",
   "name": "python3"
  },
  "language_info": {
   "codemirror_mode": {
    "name": "ipython",
    "version": 3
   },
   "file_extension": ".py",
   "mimetype": "text/x-python",
   "name": "python",
   "nbconvert_exporter": "python",
   "pygments_lexer": "ipython3",
   "version": "3.7.4"
  }
 },
 "nbformat": 4,
 "nbformat_minor": 2
}
