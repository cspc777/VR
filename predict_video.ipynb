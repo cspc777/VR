{
 "cells": [
  {
   "cell_type": "code",
   "execution_count": 1,
   "metadata": {},
   "outputs": [],
   "source": [
    "import numpy as np\n",
    "import torch\n",
    "import glob\n",
    "import os\n",
    "import custom_transforms\n",
    "from tqdm import tqdm\n",
    "# from data_loader import kitti_training_set, training_data_kitti, test_video\n",
    "# from model.model2 import Generator_Net, Discriminator_Net, Predict_Net\n",
    "from data_loader_resize import kitti_training_set, training_data_kitti, test_video\n",
    "from model.model_resize import Generator_Net, Discriminator_Net, Predict_Net\n",
    "\n",
    "from torch.utils.data import DataLoader\n",
    "import time"
   ]
  },
  {
   "cell_type": "code",
   "execution_count": 2,
   "metadata": {},
   "outputs": [],
   "source": [
    "def tensor2array(tensor):\n",
    "    tensor = tensor.detach().cpu()\n",
    "    array = 0.5 + tensor.numpy()*0.5\n",
    "#     array = array.transpose(1, 2, 0)\n",
    "    return array"
   ]
  },
  {
   "cell_type": "code",
   "execution_count": 3,
   "metadata": {},
   "outputs": [],
   "source": [
    "class Config:\n",
    "        DATASET_PATH = '/media/kuo/32AA7ACBAA7A8ADD/KITTI'\n",
    "        SINGLE_TEST_PATH = ''\n",
    "        Pretrained = True\n",
    "        Pretrained_generator_path = '/media/kuo/32AA7ACBAA7A8ADD/KITTI/VRSA/save_model/generator/generator_6000.tar'\n",
    "        Pretrained_discriminator_path = '/media/kuo/32AA7ACBAA7A8ADD/KITTI/VRSA/save_model/discriminator/discriminator_6000.tar'\n",
    "        IS_RGB = False\n",
    "        BATCH_SIZE = 3"
   ]
  },
  {
   "cell_type": "code",
   "execution_count": 5,
   "metadata": {},
   "outputs": [
    {
     "name": "stdout",
     "output_type": "stream",
     "text": [
      "load success\n"
     ]
    }
   ],
   "source": [
    "# load dataset\n",
    "normalize = custom_transforms.Normalize(mean=[0.5], std=[0.5])\n",
    "\n",
    "train_transform = custom_transforms.Compose([\n",
    "        custom_transforms.ArrayToTensor(), \n",
    "        normalize])\n",
    "\n",
    "# # kitti_training_set: scenes = ['campus', 'city', 'residential', 'road']\n",
    "# kitti_training_s = kitti_training_set(DATASET_PATH = Config.DATASET_PATH, scenes=['city', 'residential', 'road'],\n",
    "#                                         is_rgb = Config.IS_RGB)\n",
    "\n",
    "# test video\n",
    "# kitti_training_s = test_video('/media/kuo/32AA7ACBAA7A8ADD/KITTI/VRSA/vrsa_dataset/grayscale/1_1')\n",
    "kitti_training_s = test_video('/media/kuo/32AA7ACBAA7A8ADD/KITTI/VRSA/vrsa_dataset/img_w:h_2:1/2_3/')\n",
    "\n",
    "training_data_kitti = training_data_kitti(kitti_training_s, is_rgb = Config.IS_RGB, transform=train_transform)\n",
    "trainloader_kitti = torch.utils.data.DataLoader(training_data_kitti, batch_size=Config.BATCH_SIZE,shuffle=False)\n",
    "\n",
    "# generate model\n",
    "G_net = Generator_Net(is_rgb = Config.IS_RGB).to(torch.device(\"cuda\"))\n",
    "D_net = Discriminator_Net(is_rgb = Config.IS_RGB).to(torch.device(\"cuda\"))\n",
    "P_net = Predict_Net(is_rgb = Config.IS_RGB).to(torch.device(\"cuda\"))\n",
    "if Config.Pretrained:\n",
    "    G_net.load_state_dict(torch.load(Config.Pretrained_generator_path))\n",
    "    D_net.load_state_dict(torch.load(Config.Pretrained_discriminator_path))\n",
    "    print('load success')\n",
    "else:\n",
    "    G_net.init_weights()\n",
    "    D_net.init_weights()\n",
    "    P_net.init_weights()\n",
    "    print('initialization success')"
   ]
  },
  {
   "cell_type": "code",
   "execution_count": 6,
   "metadata": {},
   "outputs": [
    {
     "name": "stdout",
     "output_type": "stream",
     "text": [
      "276.51896357536316\n"
     ]
    }
   ],
   "source": [
    "# test\n",
    "scores = []\n",
    "\n",
    "torch.cuda.synchronize()\n",
    "start = time.time()\n",
    "\n",
    "for image in trainloader_kitti:\n",
    "    imgs = image.cuda()\n",
    "    generated_image = G_net(imgs)\n",
    "    score = P_net(torch.abs(imgs-generated_image))\n",
    "    \n",
    "torch.cuda.synchronize()\n",
    "end = time.time()\n",
    "print(end-start)"
   ]
  },
  {
   "cell_type": "code",
   "execution_count": null,
   "metadata": {},
   "outputs": [],
   "source": [
    "249.79\n",
    "249.24\n",
    "249.62\n",
    "249.46\n",
    "249.95"
   ]
  },
  {
   "cell_type": "code",
   "execution_count": null,
   "metadata": {},
   "outputs": [],
   "source": [
    "250.03\n",
    "208.13\n",
    "500.2321934700012\n",
    "248.98"
   ]
  }
 ],
 "metadata": {
  "kernelspec": {
   "display_name": "Python 3",
   "language": "python",
   "name": "python3"
  },
  "language_info": {
   "codemirror_mode": {
    "name": "ipython",
    "version": 3
   },
   "file_extension": ".py",
   "mimetype": "text/x-python",
   "name": "python",
   "nbconvert_exporter": "python",
   "pygments_lexer": "ipython3",
   "version": "3.7.4"
  }
 },
 "nbformat": 4,
 "nbformat_minor": 4
}
