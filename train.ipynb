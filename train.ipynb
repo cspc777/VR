{
 "cells": [
  {
   "cell_type": "code",
   "execution_count": 1,
   "metadata": {
    "scrolled": true
   },
   "outputs": [],
   "source": [
    "import numpy as np\n",
    "\n",
    "import torch\n",
    "import torch.nn as nn\n",
    "import torch.nn.functional\n",
    "\n",
    "import glob\n",
    "import os\n",
    "import custom_transforms\n",
    "from tqdm import tqdm\n",
    "from data_loader_resize import kitti_training_set, training_data_kitti, my_training_set\n",
    "from model.model_resize import Generator_Net, Discriminator_Net, get_scheduler, update_learning_rate\n",
    "\n",
    "from torch.utils.data import DataLoader\n",
    "from tensorboardX import SummaryWriter"
   ]
  },
  {
   "cell_type": "code",
   "execution_count": 2,
   "metadata": {
    "scrolled": true
   },
   "outputs": [],
   "source": [
    "class Intensity_Loss(nn.Module):\n",
    "    def __init__(self,l_num):\n",
    "        super(Intensity_Loss,self).__init__()\n",
    "        self.l_num=l_num\n",
    "    def forward(self, gen_frames,gt_frames):\n",
    "        return torch.sum(torch.mean(torch.abs((gen_frames-gt_frames)**self.l_num), (1,2,3,4)))\n",
    "    \n",
    "class Adversarial_Loss(nn.Module):\n",
    "    def __init__(self):\n",
    "        super(Adversarial_Loss,self).__init__()\n",
    "    def forward(self, fake_outputs):\n",
    "        return torch.mean((fake_outputs-1)**2/2)\n",
    "    \n",
    "class Discriminate_Loss(nn.Module):\n",
    "    def __init__(self):\n",
    "        super(Discriminate_Loss,self).__init__()\n",
    "    def forward(self,real_outputs,fake_outputs ):\n",
    "        return torch.mean((real_outputs-1)**2/2)+torch.mean(fake_outputs**2/2)\n",
    "    \n",
    "class Gradient_Loss(nn.Module):\n",
    "    def __init__(self, channels):\n",
    "        super().__init__()\n",
    "\n",
    "        pos = torch.from_numpy(np.identity(channels, dtype=np.float32))\n",
    "        neg = -1 * pos\n",
    "        # Note: when doing conv2d, the channel order is different from tensorflow, so do permutation.\n",
    "        self.filter_x = torch.stack((neg, pos)).unsqueeze(0).permute(3, 2, 0, 1).cuda()\n",
    "        self.filter_y = torch.stack((pos.unsqueeze(0), neg.unsqueeze(0))).permute(3, 2, 0, 1).cuda()\n",
    "\n",
    "    def forward(self, gen_frames, gt_frames):\n",
    "        # Do padding to match the  result of the original tensorflow implementation\n",
    "        b, t, c, h, w = gen_frames.shape\n",
    "        gen_frames = gen_frames.reshape(-1, c, h, w)\n",
    "        gt_frames = gt_frames.reshape(-1, c, h, w)\n",
    "        \n",
    "        gen_frames_x = nn.functional.pad(gen_frames, [0, 1, 0, 0])\n",
    "        gen_frames_y = nn.functional.pad(gen_frames, [0, 0, 0, 1])\n",
    "        gt_frames_x = nn.functional.pad(gt_frames, [0, 1, 0, 0])\n",
    "        gt_frames_y = nn.functional.pad(gt_frames, [0, 0, 0, 1])\n",
    "\n",
    "        gen_dx = torch.abs(nn.functional.conv2d(gen_frames_x, self.filter_x))\n",
    "        gen_dy = torch.abs(nn.functional.conv2d(gen_frames_y, self.filter_y))\n",
    "        gt_dx = torch.abs(nn.functional.conv2d(gt_frames_x, self.filter_x))\n",
    "        gt_dy = torch.abs(nn.functional.conv2d(gt_frames_y, self.filter_y))\n",
    "\n",
    "        grad_diff_x = torch.abs(gt_dx - gen_dx)\n",
    "        grad_diff_y = torch.abs(gt_dy - gen_dy)\n",
    "\n",
    "        return torch.mean(grad_diff_x + grad_diff_y)"
   ]
  },
  {
   "cell_type": "code",
   "execution_count": 3,
   "metadata": {
    "scrolled": true
   },
   "outputs": [],
   "source": [
    "def tensor2array(tensor):\n",
    "    tensor = tensor.detach().cpu()\n",
    "    array = 0.5 + tensor.numpy()*0.5\n",
    "#     array = array.transpose(1, 2, 0)\n",
    "    return array"
   ]
  },
  {
   "cell_type": "code",
   "execution_count": 5,
   "metadata": {},
   "outputs": [],
   "source": [
    "def saver(model_state_dict, model_path, step,max_to_save=5):\n",
    "    total_models=glob.glob(model_path+'*')\n",
    "    if len(total_models)>=max_to_save:\n",
    "        total_models = sorted(total_models, key=lambda name: int(name[len(model_path)+1:-4]))\n",
    "        os.remove(total_models[0])\n",
    "    torch.save(model_state_dict,model_path+'_'+str(step)+'.tar')\n",
    "    print('model {} save successfully!'.format(model_path+'_'+str(step)+'.tar'))"
   ]
  },
  {
   "cell_type": "code",
   "execution_count": 6,
   "metadata": {
    "scrolled": true
   },
   "outputs": [],
   "source": [
    "class Config:\n",
    "        DATASET_PATH = '/media/kuo/32AA7ACBAA7A8ADD/KITTI'\n",
    "        SINGLE_TEST_PATH = ''\n",
    "        WRITER_PATH = '/media/kuo/32AA7ACBAA7A8ADD/KITTI/VRSA/log'\n",
    "        G_SAVE_PATH = '/media/kuo/32AA7ACBAA7A8ADD/KITTI/VRSA/save_model/generator/generator'\n",
    "        D_SAVE_PATH = '/media/kuo/32AA7ACBAA7A8ADD/KITTI/VRSA/save_model/discriminator/discriminator'\n",
    "        Pretrained = True\n",
    "        Pretrained_generator_path = '/media/kuo/32AA7ACBAA7A8ADD/KITTI/VRSA/save_model/generator/generator_9000.tar'\n",
    "        Pretrained_discriminator_path = '/media/kuo/32AA7ACBAA7A8ADD/KITTI/VRSA/save_model/discriminator/discriminator_9000.tar'\n",
    "        IS_RGB = False\n",
    "        BATCH_SIZE = 3\n",
    "        niter = 10\n",
    "        niter_decay = 0\n",
    "        EPOCHS = niter + niter_decay\n",
    "        step=1"
   ]
  },
  {
   "cell_type": "code",
   "execution_count": 8,
   "metadata": {},
   "outputs": [],
   "source": [
    "# class Config:\n",
    "#         DATASET_PATH = '/media/kuo/124C0E504C0E2ED3/KITTI/VRSA/my_dataset/gray'\n",
    "#         SINGLE_TEST_PATH = ''\n",
    "#         WRITER_PATH = '/media/kuo/124C0E504C0E2ED3/KITTI/VRSA/log'\n",
    "#         G_SAVE_PATH = '/media/kuo/124C0E504C0E2ED3/KITTI/VRSA/save_model/generator/generator'\n",
    "#         D_SAVE_PATH = '/media/kuo/124C0E504C0E2ED3/KITTI/VRSA/save_model/discriminator/discriminator'\n",
    "#         Pretrained = True\n",
    "#         Pretrained_generator_path = '/media/kuo/124C0E504C0E2ED3/KITTI/VRSA/save_model/tmp/60epoch/generator_72000.tar'\n",
    "#         Pretrained_discriminator_path = '/media/kuo/124C0E504C0E2ED3/KITTI/VRSA/save_model/tmp/60epoch/discriminator_72000.tar'\n",
    "#         IS_RGB = False\n",
    "#         BATCH_SIZE = 3\n",
    "#         niter = 15\n",
    "#         niter_decay = 15\n",
    "#         EPOCHS = niter + niter_decay # 60\n",
    "#         step=1"
   ]
  },
  {
   "cell_type": "code",
   "execution_count": 9,
   "metadata": {
    "scrolled": true
   },
   "outputs": [
    {
     "name": "stdout",
     "output_type": "stream",
     "text": [
      "load success\n"
     ]
    }
   ],
   "source": [
    "# load dataset\n",
    "normalize = custom_transforms.Normalize(mean=[0.5], std=[0.5])\n",
    "\n",
    "train_transform = custom_transforms.Compose([\n",
    "        custom_transforms.ArrayToTensor(), \n",
    "        normalize])\n",
    "\n",
    "# kitti_training_set: scenes = ['campus', 'city', 'residential', 'road']\n",
    "kitti_training_s = kitti_training_set(DATASET_PATH = Config.DATASET_PATH, scenes=['city', 'residential', 'road'],\n",
    "                                        is_rgb = Config.IS_RGB)\n",
    "training_data_kitti = training_data_kitti(kitti_training_s, is_rgb = Config.IS_RGB, transform=train_transform)\n",
    "\n",
    "# my dataset\n",
    "# vr_training_set = my_training_set(DATASET_PATH = Config.DATASET_PATH, scenes=['level_1', 'level_2', 'level_3'], is_rgb = False)\n",
    "# training_data_kitti = training_data_kitti(vr_training_set, is_rgb = Config.IS_RGB, transform=train_transform)\n",
    "\n",
    "trainloader_kitti = torch.utils.data.DataLoader(training_data_kitti, batch_size=Config.BATCH_SIZE,shuffle=True, drop_last=True)\n",
    "\n",
    "# generate model\n",
    "G_net = Generator_Net(is_rgb = Config.IS_RGB).to(torch.device(\"cuda\"))\n",
    "D_net = Discriminator_Net(is_rgb = Config.IS_RGB).to(torch.device(\"cuda\"))\n",
    "if Config.Pretrained:\n",
    "    G_net.load_state_dict(torch.load(Config.Pretrained_generator_path))\n",
    "    D_net.load_state_dict(torch.load(Config.Pretrained_discriminator_path))\n",
    "    print('load success')\n",
    "else:\n",
    "    G_net.init_weights()\n",
    "    D_net.init_weights()\n",
    "    print('initialization success')\n",
    "    \n",
    "# tensorboard\n",
    "writer=SummaryWriter(Config.WRITER_PATH)\n",
    "\n",
    "# optimizer\n",
    "optimizer_G = torch.optim.Adam(G_net.parameters(), lr=0.00005, betas=(0.9, 0.999), weight_decay=1e-8) # lr=0.00005, betas=(0.9, 0.999), weight_decay=1e-8\n",
    "optimizer_D = torch.optim.Adam(D_net.parameters(), lr=0.00005, betas=(0.9, 0.999), weight_decay=1e-8) # lr=0.00005, betas=(0.9, 0.999), weight_decay=1e-8\n",
    "net_g_scheduler = get_scheduler(optimizer_G, Config)\n",
    "net_d_scheduler = get_scheduler(optimizer_D, Config)\n",
    "\n",
    "# loss\n",
    "img_loss = Intensity_Loss(l_num=2).cuda()\n",
    "gen_loss = Adversarial_Loss().cuda()\n",
    "dis_loss = Discriminate_Loss().cuda()"
   ]
  },
  {
   "cell_type": "code",
   "execution_count": 10,
   "metadata": {
    "scrolled": true
   },
   "outputs": [
    {
     "name": "stderr",
     "output_type": "stream",
     "text": [
      "\r",
      "  0%|          | 0/1275 [00:00<?, ?it/s]"
     ]
    },
    {
     "name": "stdout",
     "output_type": "stream",
     "text": [
      "epochs_num:  0\n"
     ]
    },
    {
     "name": "stderr",
     "output_type": "stream",
     "text": [
      "  0%|          | 2/1275 [00:05<59:11,  2.79s/it]\n"
     ]
    },
    {
     "ename": "KeyboardInterrupt",
     "evalue": "",
     "output_type": "error",
     "traceback": [
      "\u001b[0;31m---------------------------------------------------------------------------\u001b[0m",
      "\u001b[0;31mKeyboardInterrupt\u001b[0m                         Traceback (most recent call last)",
      "\u001b[0;32m<ipython-input-10-f40f71c3e60a>\u001b[0m in \u001b[0;36m<module>\u001b[0;34m\u001b[0m\n\u001b[1;32m     20\u001b[0m \u001b[0;34m\u001b[0m\u001b[0m\n\u001b[1;32m     21\u001b[0m             \u001b[0mg_loss\u001b[0m\u001b[0;34m.\u001b[0m\u001b[0mbackward\u001b[0m\u001b[0;34m(\u001b[0m\u001b[0;34m)\u001b[0m\u001b[0;34m\u001b[0m\u001b[0;34m\u001b[0m\u001b[0m\n\u001b[0;32m---> 22\u001b[0;31m             \u001b[0moptimizer_G\u001b[0m\u001b[0;34m.\u001b[0m\u001b[0mstep\u001b[0m\u001b[0;34m(\u001b[0m\u001b[0;34m)\u001b[0m\u001b[0;34m\u001b[0m\u001b[0;34m\u001b[0m\u001b[0m\n\u001b[0m\u001b[1;32m     23\u001b[0m \u001b[0;34m\u001b[0m\u001b[0m\n\u001b[1;32m     24\u001b[0m \u001b[0;34m\u001b[0m\u001b[0m\n",
      "\u001b[0;32m~/anaconda3/envs/AD_test/lib/python3.7/site-packages/torch/optim/lr_scheduler.py\u001b[0m in \u001b[0;36mwrapper\u001b[0;34m(*args, **kwargs)\u001b[0m\n\u001b[1;32m     34\u001b[0m             \u001b[0;32mdef\u001b[0m \u001b[0mwrapper\u001b[0m\u001b[0;34m(\u001b[0m\u001b[0;34m*\u001b[0m\u001b[0margs\u001b[0m\u001b[0;34m,\u001b[0m \u001b[0;34m**\u001b[0m\u001b[0mkwargs\u001b[0m\u001b[0;34m)\u001b[0m\u001b[0;34m:\u001b[0m\u001b[0;34m\u001b[0m\u001b[0;34m\u001b[0m\u001b[0m\n\u001b[1;32m     35\u001b[0m                 \u001b[0mopt\u001b[0m\u001b[0;34m.\u001b[0m\u001b[0m_step_count\u001b[0m \u001b[0;34m+=\u001b[0m \u001b[0;36m1\u001b[0m\u001b[0;34m\u001b[0m\u001b[0;34m\u001b[0m\u001b[0m\n\u001b[0;32m---> 36\u001b[0;31m                 \u001b[0;32mreturn\u001b[0m \u001b[0mfunc\u001b[0m\u001b[0;34m(\u001b[0m\u001b[0;34m*\u001b[0m\u001b[0margs\u001b[0m\u001b[0;34m,\u001b[0m \u001b[0;34m**\u001b[0m\u001b[0mkwargs\u001b[0m\u001b[0;34m)\u001b[0m\u001b[0;34m\u001b[0m\u001b[0;34m\u001b[0m\u001b[0m\n\u001b[0m\u001b[1;32m     37\u001b[0m             \u001b[0mwrapper\u001b[0m\u001b[0;34m.\u001b[0m\u001b[0m_with_counter\u001b[0m \u001b[0;34m=\u001b[0m \u001b[0;32mTrue\u001b[0m\u001b[0;34m\u001b[0m\u001b[0;34m\u001b[0m\u001b[0m\n\u001b[1;32m     38\u001b[0m             \u001b[0;32mreturn\u001b[0m \u001b[0mwrapper\u001b[0m\u001b[0;34m\u001b[0m\u001b[0;34m\u001b[0m\u001b[0m\n",
      "\u001b[0;32m~/anaconda3/envs/AD_test/lib/python3.7/site-packages/torch/optim/adam.py\u001b[0m in \u001b[0;36mstep\u001b[0;34m(self, closure)\u001b[0m\n\u001b[1;32m    105\u001b[0m                 \u001b[0mstep_size\u001b[0m \u001b[0;34m=\u001b[0m \u001b[0mgroup\u001b[0m\u001b[0;34m[\u001b[0m\u001b[0;34m'lr'\u001b[0m\u001b[0;34m]\u001b[0m \u001b[0;34m*\u001b[0m \u001b[0mmath\u001b[0m\u001b[0;34m.\u001b[0m\u001b[0msqrt\u001b[0m\u001b[0;34m(\u001b[0m\u001b[0mbias_correction2\u001b[0m\u001b[0;34m)\u001b[0m \u001b[0;34m/\u001b[0m \u001b[0mbias_correction1\u001b[0m\u001b[0;34m\u001b[0m\u001b[0;34m\u001b[0m\u001b[0m\n\u001b[1;32m    106\u001b[0m \u001b[0;34m\u001b[0m\u001b[0m\n\u001b[0;32m--> 107\u001b[0;31m                 \u001b[0mp\u001b[0m\u001b[0;34m.\u001b[0m\u001b[0mdata\u001b[0m\u001b[0;34m.\u001b[0m\u001b[0maddcdiv_\u001b[0m\u001b[0;34m(\u001b[0m\u001b[0;34m-\u001b[0m\u001b[0mstep_size\u001b[0m\u001b[0;34m,\u001b[0m \u001b[0mexp_avg\u001b[0m\u001b[0;34m,\u001b[0m \u001b[0mdenom\u001b[0m\u001b[0;34m)\u001b[0m\u001b[0;34m\u001b[0m\u001b[0;34m\u001b[0m\u001b[0m\n\u001b[0m\u001b[1;32m    108\u001b[0m \u001b[0;34m\u001b[0m\u001b[0m\n\u001b[1;32m    109\u001b[0m         \u001b[0;32mreturn\u001b[0m \u001b[0mloss\u001b[0m\u001b[0;34m\u001b[0m\u001b[0;34m\u001b[0m\u001b[0m\n",
      "\u001b[0;31mKeyboardInterrupt\u001b[0m: "
     ]
    }
   ],
   "source": [
    "step = Config.step\n",
    "for e in range(Config.EPOCHS):\n",
    "    print('epochs_num: ', e)\n",
    "    for image in tqdm(trainloader_kitti):\n",
    "        real_label = torch.ones(size=(image.size(0), 1), requires_grad=False).cuda()\n",
    "        fake_label = torch.zeros(size=(image.size(0), 1), requires_grad=False).cuda()\n",
    "\n",
    "        image = image.cuda()\n",
    "        \n",
    "        #train_G\n",
    "        for _ in range(2):\n",
    "            optimizer_G.zero_grad()\n",
    "            generated_image = G_net(image)\n",
    "            d_out_fake = D_net(generated_image)\n",
    "            int_loss = img_loss(generated_image, image)\n",
    "            g_loss = gen_loss(d_out_fake) + int_loss\n",
    "\n",
    "            g_loss.backward()\n",
    "            optimizer_G.step()\n",
    "        \n",
    "\n",
    "        #train_D\n",
    "        optimizer_D.zero_grad()\n",
    "\n",
    "        generated_image = G_net(image)\n",
    "        d_out_real = D_net(image)\n",
    "        d_out_fake = D_net(generated_image.detach())\n",
    "        d_loss = dis_loss(d_out_real, d_out_fake)\n",
    "\n",
    "        d_loss.backward()\n",
    "        optimizer_D.step()\n",
    "        \n",
    "        if step%100==0:\n",
    "            print('g_loss {}, d_loss {}, int_loss {} ,'.format(g_loss, d_loss, int_loss))\n",
    "            writer.add_scalar('total_loss/g_loss', g_loss, global_step=step)\n",
    "            writer.add_scalar('total_loss/d_loss', d_loss, global_step=step)\n",
    "            writer.add_scalar('g_loss/int_loss', int_loss, global_step=step)\n",
    "            writer.add_image('image/train_target', tensor2array(image[-1,0]), global_step=step)\n",
    "            writer.add_image('image/train_output', tensor2array(generated_image[-1,0]), global_step=step)\n",
    "            print('G learning rate = %.7f' % optimizer_G.param_groups[0]['lr'])\n",
    "            print('D learning rate = %.7f' % optimizer_D.param_groups[0]['lr'])\n",
    "            \n",
    "        if step%1000==0 and step != 0:\n",
    "            saver(G_net.state_dict(), Config.G_SAVE_PATH, step, max_to_save=5)\n",
    "            saver(D_net.state_dict(), Config.D_SAVE_PATH, step, max_to_save=5)\n",
    "            \n",
    "        step+=1\n",
    "    update_learning_rate(net_g_scheduler)\n",
    "    update_learning_rate(net_d_scheduler)"
   ]
  },
  {
   "cell_type": "code",
   "execution_count": null,
   "metadata": {
    "scrolled": true
   },
   "outputs": [],
   "source": []
  },
  {
   "cell_type": "code",
   "execution_count": null,
   "metadata": {
    "scrolled": true
   },
   "outputs": [],
   "source": []
  },
  {
   "cell_type": "code",
   "execution_count": null,
   "metadata": {},
   "outputs": [],
   "source": []
  },
  {
   "cell_type": "code",
   "execution_count": null,
   "metadata": {},
   "outputs": [],
   "source": []
  }
 ],
 "metadata": {
  "kernelspec": {
   "display_name": "Python 3",
   "language": "python",
   "name": "python3"
  },
  "language_info": {
   "codemirror_mode": {
    "name": "ipython",
    "version": 3
   },
   "file_extension": ".py",
   "mimetype": "text/x-python",
   "name": "python",
   "nbconvert_exporter": "python",
   "pygments_lexer": "ipython3",
   "version": "3.7.3"
  }
 },
 "nbformat": 4,
 "nbformat_minor": 2
}
